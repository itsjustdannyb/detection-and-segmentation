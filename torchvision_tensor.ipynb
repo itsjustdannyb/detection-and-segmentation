{
  "cells": [
    {
      "cell_type": "code",
      "execution_count": null,
      "metadata": {
        "id": "lIYdn1woOS1n"
      },
      "outputs": [],
      "source": [
        "import torch\n",
        "import torchvision\n",
        "from torchvision import tv_tensors\n",
        "from torchvision.io.image import decode_image\n",
        "from torchvision.io import read_image"
      ]
    },
    {
      "cell_type": "code",
      "source": [
        "!wget -O duck.jpeg https://hips.hearstapps.com/hmg-prod/images/how-to-keep-ducks-call-ducks-1615457181.jpg?crop=0.670xw:1.00xh;0.157xw,0&resize=980:*"
      ],
      "metadata": {
        "id": "E6e_X_WdBAMO",
        "outputId": "abc96bee-de0d-445f-e3a9-95b18d019217",
        "colab": {
          "base_uri": "https://localhost:8080/"
        }
      },
      "execution_count": null,
      "outputs": [
        {
          "output_type": "stream",
          "name": "stdout",
          "text": [
            "--2025-01-02 21:57:57--  https://hips.hearstapps.com/hmg-prod/images/how-to-keep-ducks-call-ducks-1615457181.jpg?crop=0.670xw:1.00xh\n",
            "Resolving hips.hearstapps.com (hips.hearstapps.com)... 151.101.0.155, 151.101.64.155, 151.101.128.155, ...\n",
            "Connecting to hips.hearstapps.com (hips.hearstapps.com)|151.101.0.155|:443... connected.\n",
            "HTTP request sent, awaiting response... 200 OK\n",
            "Length: 337587 (330K) [image/jpeg]\n",
            "Saving to: ‘duck.jpeg’\n",
            "\n",
            "\rduck.jpeg             0%[                    ]       0  --.-KB/s               \rduck.jpeg           100%[===================>] 329.67K  --.-KB/s    in 0.03s   \n",
            "\n",
            "2025-01-02 21:57:57 (9.28 MB/s) - ‘duck.jpeg’ saved [337587/337587]\n",
            "\n",
            "/bin/bash: line 1: 0.157xw,0: command not found\n"
          ]
        }
      ]
    },
    {
      "cell_type": "code",
      "source": [
        "img_path = \"/content/duck.jpeg\"\n",
        "img = read_image(img_path)\n",
        "img"
      ],
      "metadata": {
        "id": "FdfDcSrJBNge",
        "outputId": "aab1f0b3-f366-4843-9329-37dd3ecc92d4",
        "colab": {
          "base_uri": "https://localhost:8080/"
        }
      },
      "execution_count": null,
      "outputs": [
        {
          "output_type": "execute_result",
          "data": {
            "text/plain": [
              "tensor([[[36, 37, 38,  ..., 53, 53, 53],\n",
              "         [34, 36, 36,  ..., 53, 53, 55],\n",
              "         [32, 34, 35,  ..., 55, 55, 58],\n",
              "         ...,\n",
              "         [39, 35, 46,  ..., 42, 36, 35],\n",
              "         [47, 35, 36,  ..., 41, 38, 40],\n",
              "         [53, 35, 30,  ..., 41, 41, 41]],\n",
              "\n",
              "        [[64, 65, 69,  ..., 86, 86, 87],\n",
              "         [62, 64, 66,  ..., 86, 86, 89],\n",
              "         [59, 62, 65,  ..., 87, 87, 90],\n",
              "         ...,\n",
              "         [80, 76, 83,  ..., 87, 84, 83],\n",
              "         [90, 78, 76,  ..., 86, 83, 85],\n",
              "         [96, 78, 71,  ..., 86, 86, 86]],\n",
              "\n",
              "        [[26, 27, 28,  ..., 15, 15, 13],\n",
              "         [24, 26, 28,  ..., 15, 15, 15],\n",
              "         [24, 24, 27,  ..., 14, 14, 17],\n",
              "         ...,\n",
              "         [ 4,  0, 13,  ...,  4,  0,  0],\n",
              "         [11,  0,  3,  ...,  3,  0,  2],\n",
              "         [16,  0,  0,  ...,  3,  1,  3]]], dtype=torch.uint8)"
            ]
          },
          "metadata": {},
          "execution_count": 11
        }
      ]
    },
    {
      "cell_type": "code",
      "source": [
        "from torchvision.io import read_image\n",
        "from torchvision.io.image import decode_image"
      ],
      "metadata": {
        "id": "FM-D4MIOBqIK"
      },
      "execution_count": null,
      "outputs": []
    },
    {
      "cell_type": "code",
      "source": [],
      "metadata": {
        "id": "tPYNG0KTCs5k"
      },
      "execution_count": null,
      "outputs": []
    }
  ],
  "metadata": {
    "colab": {
      "provenance": []
    },
    "kernelspec": {
      "display_name": "Python 3",
      "name": "python3"
    }
  },
  "nbformat": 4,
  "nbformat_minor": 0
}