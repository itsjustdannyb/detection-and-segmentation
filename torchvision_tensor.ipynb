{
  "cells": [
    {
      "cell_type": "code",
      "execution_count": 57,
      "metadata": {
        "id": "lIYdn1woOS1n"
      },
      "outputs": [],
      "source": [
        "import torch\n",
        "import torchvision\n",
        "from torchvision import tv_tensors\n",
        "from torchvision.io.image import decode_image\n",
        "from torchvision.io import read_image"
      ]
    },
    {
      "cell_type": "code",
      "source": [
        "!wget -O duck.jpeg https://hips.hearstapps.com/hmg-prod/images/how-to-keep-ducks-call-ducks-1615457181.jpg?crop=0.670xw:1.00xh;0.157xw,0&resize=980:*\n",
        "img_path = \"/content/duck.jpeg\""
      ],
      "metadata": {
        "id": "E6e_X_WdBAMO",
        "outputId": "ed406f47-3fd2-4458-af07-890b4ea61af4",
        "colab": {
          "base_uri": "https://localhost:8080/"
        }
      },
      "execution_count": 58,
      "outputs": [
        {
          "output_type": "stream",
          "name": "stdout",
          "text": [
            "--2025-01-03 18:27:35--  https://hips.hearstapps.com/hmg-prod/images/how-to-keep-ducks-call-ducks-1615457181.jpg?crop=0.670xw:1.00xh\n",
            "Resolving hips.hearstapps.com (hips.hearstapps.com)... 151.101.0.155, 151.101.64.155, 151.101.128.155, ...\n",
            "Connecting to hips.hearstapps.com (hips.hearstapps.com)|151.101.0.155|:443... connected.\n",
            "HTTP request sent, awaiting response... 200 OK\n",
            "Length: 337587 (330K) [image/jpeg]\n",
            "Saving to: ‘duck.jpeg’\n",
            "\n",
            "\rduck.jpeg             0%[                    ]       0  --.-KB/s               \rduck.jpeg           100%[===================>] 329.67K  --.-KB/s    in 0.05s   \n",
            "\n",
            "2025-01-03 18:27:35 (7.08 MB/s) - ‘duck.jpeg’ saved [337587/337587]\n",
            "\n",
            "/bin/bash: line 1: 0.157xw,0: command not found\n"
          ]
        }
      ]
    },
    {
      "cell_type": "code",
      "source": [
        "from torchvision.tv_tensors import TVTensor, BoundingBoxes, Mask, Image\n",
        "import torchvision.transforms.v2.functional as F\n",
        "\n",
        "\n",
        "image = Image(read_image(img_path))\n",
        "\n",
        "bboxes = BoundingBoxes([[100,100,200,200]], format=\"XYXY\", canvas_size=(image.shape[-2], image.shape[-1]))\n",
        "\n",
        "from torchvision import transforms\n",
        "\n",
        "\n",
        "### when you're preppeing your dataset\n",
        "# if transforms:\n",
        "image_trans = F.hflip(image)\n",
        "bboxes_trans = F.hflip(bboxes)\n",
        "\n",
        "\n",
        "\n"
      ],
      "metadata": {
        "id": "FdfDcSrJBNge"
      },
      "execution_count": 59,
      "outputs": []
    },
    {
      "cell_type": "code",
      "source": [
        "image.shape"
      ],
      "metadata": {
        "id": "FM-D4MIOBqIK",
        "colab": {
          "base_uri": "https://localhost:8080/"
        },
        "outputId": "3692ac82-c572-4454-b8e4-17f7592f4013"
      },
      "execution_count": 60,
      "outputs": [
        {
          "output_type": "execute_result",
          "data": {
            "text/plain": [
              "torch.Size([3, 1414, 2121])"
            ]
          },
          "metadata": {},
          "execution_count": 60
        }
      ]
    },
    {
      "cell_type": "code",
      "source": [
        "bboxes_trans"
      ],
      "metadata": {
        "colab": {
          "base_uri": "https://localhost:8080/"
        },
        "id": "6LwMiZfwR5Bk",
        "outputId": "e8cb8c68-bd22-42b7-bc56-84fd563f2524"
      },
      "execution_count": 61,
      "outputs": [
        {
          "output_type": "execute_result",
          "data": {
            "text/plain": [
              "BoundingBoxes([[1921,  100, 2021,  200]], format=BoundingBoxFormat.XYXY, canvas_size=(1414, 2121))"
            ]
          },
          "metadata": {},
          "execution_count": 61
        }
      ]
    },
    {
      "cell_type": "code",
      "source": [],
      "metadata": {
        "id": "sFEqB-6TR4T8"
      },
      "execution_count": null,
      "outputs": []
    }
  ],
  "metadata": {
    "colab": {
      "provenance": []
    },
    "kernelspec": {
      "display_name": "Python 3",
      "name": "python3"
    }
  },
  "nbformat": 4,
  "nbformat_minor": 0
}