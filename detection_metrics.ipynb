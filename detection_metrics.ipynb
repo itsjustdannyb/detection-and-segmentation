{
  "nbformat": 4,
  "nbformat_minor": 0,
  "metadata": {
    "colab": {
      "provenance": [],
      "authorship_tag": "ABX9TyOifNPVntQq8bb9i/Us19Y+"
    },
    "kernelspec": {
      "name": "python3",
      "display_name": "Python 3"
    },
    "language_info": {
      "name": "python"
    }
  },
  "cells": [
    {
      "cell_type": "code",
      "source": [],
      "metadata": {
        "id": "51nKfZVOUf8C"
      },
      "execution_count": null,
      "outputs": []
    },
    {
      "cell_type": "markdown",
      "source": [
        "### IoU"
      ],
      "metadata": {
        "id": "BqV5kBBIUgXa"
      }
    },
    {
      "cell_type": "code",
      "execution_count": 1,
      "metadata": {
        "id": "OXWiAIv_P3hw"
      },
      "outputs": [],
      "source": [
        "def intersection_over_union(box1, box2):\n",
        "  \"\"\"\n",
        "    assuming bounding box follows class_id, xmin, ymin, xmax, ymax\n",
        "  \"\"\"\n",
        "  # intersection coordinates\n",
        "  x1 = max(box1[1], box2[1])\n",
        "  x2 = min(box1[3], box2[3])\n",
        "  y1 = max(box1[2], box2[2])\n",
        "  y2 = min(box1[4], box2[4])\n",
        "\n",
        "  # area of intersections\n",
        "  intersection_area = (x2 - x1) * (y2 - y1)\n",
        "\n",
        "  # box areas\n",
        "  box1_area = (box1[3] - box1[1]) * (box1[4] - box1[y1])\n",
        "  box2_area = (box2[x2] - box2[x1]) * (box2[y2] - box2[y1])\n",
        "\n",
        "  union_area = (box1_area + box2_area - intersection_area)\n",
        "\n",
        "  iou = intersection_area /  union_area\n",
        "\n",
        "  return iou\n"
      ]
    },
    {
      "cell_type": "code",
      "source": [],
      "metadata": {
        "id": "xWLfc01Ie3PG"
      },
      "execution_count": null,
      "outputs": []
    },
    {
      "cell_type": "markdown",
      "source": [
        "### non max supression"
      ],
      "metadata": {
        "id": "OptnvfUqe3vd"
      }
    },
    {
      "cell_type": "code",
      "source": [],
      "metadata": {
        "id": "6Y5ZtVlEe3Iu"
      },
      "execution_count": null,
      "outputs": []
    },
    {
      "cell_type": "code",
      "source": [],
      "metadata": {
        "id": "JVtflwhDYArG"
      },
      "execution_count": null,
      "outputs": []
    }
  ]
}